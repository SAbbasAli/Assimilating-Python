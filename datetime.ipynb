{
 "cells": [
  {
   "cell_type": "code",
   "execution_count": 27,
   "metadata": {},
   "outputs": [
    {
     "name": "stdout",
     "output_type": "stream",
     "text": [
      "1.  2018-03-13 23:34:29  type of  <class 'str'>\n",
      "2.  2018-03-13 23:34:29  type of  <class 'datetime.datetime'>\n",
      "5.  2018-03-13 23:34:29  type of  <class 'str'>\n",
      "3.  1520964269.0  type of  <class 'float'>\n",
      "4.  2018-03-13 23:34:29  type of  <class 'datetime.datetime'>\n"
     ]
    }
   ],
   "source": [
    "from datetime import datetime\n",
    "\n",
    "dt_string = '2018-03-13 23:34:29'  # datetime string\n",
    "print('1. ', dt_string, ' type of ', type(dt_string))\n",
    "\n",
    "dt_obj = datetime.strptime(dt_string, '%Y-%m-%d %H:%M:%S')  # converting to datetime object from a datetime string\n",
    "print('2. ', dt_obj, ' type of ', type(dt_obj))\n",
    "\n",
    "dt_string_frm_dt_obj = dt_obj.strftime('%Y-%m-%d %H:%M:%S')  # converting to datetime string from a datetime object\n",
    "print('5. ', dt_string_frm_dt_obj, ' type of ', type(dt_string_frm_dt_obj))\n",
    "     \n",
    "dt_timestamp = datetime.timestamp(dt_obj)  # converting to timestamp from a datetime object\n",
    "print('3. ', dt_timestamp, ' type of ', type(dt_timestamp))\n",
    "\n",
    "dt_obj_frm_dt_timestamp = datetime.fromtimestamp(dt_timestamp)  # converting to datetime object from a timestamp\n",
    "print('4. ', dt_frm_dt_timestamp, ' type of ', type(dt_frm_dt_timestamp))"
   ]
  },
  {
   "cell_type": "code",
   "execution_count": 43,
   "metadata": {},
   "outputs": [
    {
     "name": "stdout",
     "output_type": "stream",
     "text": [
      "Datetime object is  2018-03-13 23:34:29 \n",
      "\n",
      "1. day :  13\n",
      "2. month :  3\n",
      "3. year :  2018\n",
      "4. hour :  23\n",
      "5. minute :  34\n",
      "6. second :  29\n"
     ]
    }
   ],
   "source": [
    "# Extracting day, month, year, hour, minute, second from a datetime object\n",
    "\n",
    "day = dt_obj.day\n",
    "month = dt_obj.month\n",
    "year = dt_obj.year\n",
    "hour = dt_obj.hour\n",
    "minute = dt_obj.minute\n",
    "second = dt_obj.second\n",
    "\n",
    "print('Datetime object is ', dt_obj, '\\n')\n",
    "print('1. day : ', day)\n",
    "print('2. month : ', month)\n",
    "print('3. year : ', year)\n",
    "print('4. hour : ', hour)\n",
    "print('5. minute : ', minute)\n",
    "print('6. second : ', second)"
   ]
  },
  {
   "cell_type": "code",
   "execution_count": null,
   "metadata": {},
   "outputs": [],
   "source": []
  }
 ],
 "metadata": {
  "kernelspec": {
   "display_name": "Python 3",
   "language": "python",
   "name": "python3"
  },
  "language_info": {
   "codemirror_mode": {
    "name": "ipython",
    "version": 3
   },
   "file_extension": ".py",
   "mimetype": "text/x-python",
   "name": "python",
   "nbconvert_exporter": "python",
   "pygments_lexer": "ipython3",
   "version": "3.6.3"
  }
 },
 "nbformat": 4,
 "nbformat_minor": 2
}
